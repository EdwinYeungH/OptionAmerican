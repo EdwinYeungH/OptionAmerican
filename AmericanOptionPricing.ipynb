{
 "cells": [
  {
   "cell_type": "code",
   "execution_count": 7,
   "metadata": {},
   "outputs": [],
   "source": [
    "import pandas as pd\n",
    "from datetime import datetime"
   ]
  },
  {
   "cell_type": "code",
   "execution_count": 8,
   "metadata": {},
   "outputs": [],
   "source": [
    "import yahoo_fin.options as ops"
   ]
  },
  {
   "cell_type": "code",
   "execution_count": 17,
   "metadata": {},
   "outputs": [],
   "source": [
    "aapl_div = 0.22\n",
    "sofr = 0.27\n",
    "ex_div_date = datetime(2022,5,6)\n",
    "pay_date = datetime(2022,5,12)\n",
    "today = datetime.now()\n",
    "expiration = datetime(2022,5,20)\n",
    "strike_price = 150"
   ]
  },
  {
   "cell_type": "code",
   "execution_count": 18,
   "metadata": {},
   "outputs": [
    {
     "data": {
      "text/plain": [
       "Contract Name        AAPL220520C00150000\n",
       "Last Trade Date    2022-03-25 3:58PM EDT\n",
       "Last Price                         26.17\n",
       "Bid                                25.95\n",
       "Ask                                 26.7\n",
       "Change                              0.39\n",
       "% Change                          +1.51%\n",
       "Volume                               194\n",
       "Open Interest                       5205\n",
       "Exercise Price                     150.0\n",
       "Name: 150.0, dtype: object"
      ]
     },
     "execution_count": 18,
     "metadata": {},
     "output_type": "execute_result"
    }
   ],
   "source": [
    "df = ops.get_calls(\"aapl\", date = expiration)\n",
    "df[\"Exercise Price\"] = df[\"Strike\"]\n",
    "option_detail = df.drop(\"Implied Volatility\",axis = 1).set_index(\"Strike\").loc[strike_price]\n",
    "option_detail"
   ]
  },
  {
   "cell_type": "code",
   "execution_count": 19,
   "metadata": {},
   "outputs": [
    {
     "data": {
      "text/plain": [
       "Contract Name        AAPL220520P00150000\n",
       "Last Trade Date    2022-03-25 3:57PM EDT\n",
       "Last Price                          1.58\n",
       "Bid                                 1.58\n",
       "Ask                                 1.62\n",
       "Change                             -0.18\n",
       "% Change                         -10.23%\n",
       "Volume                              2428\n",
       "Open Interest                      23992\n",
       "Exercise Price                     150.0\n",
       "Name: 150.0, dtype: object"
      ]
     },
     "execution_count": 19,
     "metadata": {},
     "output_type": "execute_result"
    }
   ],
   "source": [
    "df2 = ops.get_puts(\"aapl\", date = expiration)\n",
    "df2[\"Exercise Price\"] = df2[\"Strike\"]\n",
    "option_detail_2 = df2.drop(\"Implied Volatility\", axis = 1).set_index(\"Strike\").loc[150]\n",
    "option_detail_2"
   ]
  },
  {
   "cell_type": "code",
   "execution_count": 14,
   "metadata": {},
   "outputs": [
    {
     "data": {
      "text/plain": [
       "False"
      ]
     },
     "execution_count": 14,
     "metadata": {},
     "output_type": "execute_result"
    }
   ],
   "source": [
    "aapl_div_with_int = aapl_div*(1+sofr*((expiration - pay_date).days/360))\n",
    "aapl_div_with_int > option_detail_2[\"Ask\"] + option_detail[\"Exercise Price\"]*sofr*((expiration - today).days/360)"
   ]
  }
 ],
 "metadata": {
  "kernelspec": {
   "display_name": "Python 3 (ipykernel)",
   "language": "python",
   "name": "python3"
  },
  "language_info": {
   "codemirror_mode": {
    "name": "ipython",
    "version": 3
   },
   "file_extension": ".py",
   "mimetype": "text/x-python",
   "name": "python",
   "nbconvert_exporter": "python",
   "pygments_lexer": "ipython3",
   "version": "3.9.7"
  }
 },
 "nbformat": 4,
 "nbformat_minor": 4
}
