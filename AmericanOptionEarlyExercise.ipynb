{
 "cells": [
  {
   "cell_type": "code",
   "execution_count": 147,
   "metadata": {},
   "outputs": [],
   "source": [
    "import pandas as pd\n",
    "from datetime import datetime"
   ]
  },
  {
   "cell_type": "code",
   "execution_count": 148,
   "metadata": {},
   "outputs": [],
   "source": [
    "import yahoo_fin.options as ops"
   ]
  },
  {
   "cell_type": "code",
   "execution_count": 158,
   "metadata": {},
   "outputs": [],
   "source": [
    "aapl_div = 0.22\n",
    "sofr = 0.27\n",
    "ex_div_date = datetime(2022,5,6)\n",
    "pay_date = datetime(2022,5,12)\n",
    "today = datetime.now()\n",
    "expiration = datetime(2022,5,20)\n",
    "type = \"call\"\n",
    "strike_price = [100,110,120,130,140,150]"
   ]
  },
  {
   "cell_type": "code",
   "execution_count": 159,
   "metadata": {},
   "outputs": [],
   "source": [
    "if type == \"call\":\n",
    "    output = pd.DataFrame(columns = ['Contract Name','Type','Strike' , 'Early Exercise'])\n",
    "    df = ops.get_puts(\"aapl\", date = expiration)\n",
    "    df[\"Exercise Price\"] = df[\"Strike\"]\n",
    "    option_detail = df.drop(\"Implied Volatility\",axis = 1).set_index(\"Strike\")\n",
    "    for i in strike_price:\n",
    "        aapl_div_with_int = aapl_div*(1+sofr*((expiration - pay_date).days/360))\n",
    "        exercise = aapl_div_with_int > option_detail.at[i,\"Ask\"] + i*sofr/100*((expiration - today).days/360)\n",
    "        temp = {\"Contract Name\":option_detail.at[i,\"Contract Name\"],\"Type\":\"Call\", \"Strike\":i,\"Early Exercise\": exercise}\n",
    "        output = output.append(temp, ignore_index= True)\n",
    "else:\n",
    "    pass"
   ]
  },
  {
   "cell_type": "code",
   "execution_count": 160,
   "metadata": {
    "scrolled": false
   },
   "outputs": [],
   "source": [
    "if type == \"put\":\n",
    "    output = pd.DataFrame(columns = ['Contract Name','Type','Strike' , 'Early Exercise', \"Blackout Period\"])\n",
    "    df2 = ops.get_calls(\"aapl\", date = expiration)\n",
    "    df2[\"Exercise Price\"] = df2[\"Strike\"]\n",
    "    option_detail = df2.drop(\"Implied Volatility\",axis = 1).set_index(\"Strike\")\n",
    "    for i in strike_price:\n",
    "        aapl_div_with_int = aapl_div*(1+sofr*((expiration - pay_date).days/360))\n",
    "        exercise = i*sofr/100*((expiration - today).days/360) > aapl_div_with_int + option_detail.at[i,\"Ask\"]\n",
    "        black_out = aapl_div / (i*sofr/100*(1/360))\n",
    "        temp = {\"Contract Name\":option_detail.at[i,\"Contract Name\"],\"Type\":\"Put\", \"Strike\":i,\"Early Exercise\": exercise, \"Blackout Period\": black_out}\n",
    "        output = output.append(temp, ignore_index= True)\n",
    "else:\n",
    "    pass"
   ]
  },
  {
   "cell_type": "code",
   "execution_count": 161,
   "metadata": {},
   "outputs": [
    {
     "data": {
      "text/html": [
       "<div>\n",
       "<style scoped>\n",
       "    .dataframe tbody tr th:only-of-type {\n",
       "        vertical-align: middle;\n",
       "    }\n",
       "\n",
       "    .dataframe tbody tr th {\n",
       "        vertical-align: top;\n",
       "    }\n",
       "\n",
       "    .dataframe thead th {\n",
       "        text-align: right;\n",
       "    }\n",
       "</style>\n",
       "<table border=\"1\" class=\"dataframe\">\n",
       "  <thead>\n",
       "    <tr style=\"text-align: right;\">\n",
       "      <th></th>\n",
       "      <th>Contract Name</th>\n",
       "      <th>Type</th>\n",
       "      <th>Strike</th>\n",
       "      <th>Early Exercise</th>\n",
       "    </tr>\n",
       "  </thead>\n",
       "  <tbody>\n",
       "    <tr>\n",
       "      <th>0</th>\n",
       "      <td>AAPL220520P00100000</td>\n",
       "      <td>Call</td>\n",
       "      <td>100</td>\n",
       "      <td>True</td>\n",
       "    </tr>\n",
       "    <tr>\n",
       "      <th>1</th>\n",
       "      <td>AAPL220520P00110000</td>\n",
       "      <td>Call</td>\n",
       "      <td>110</td>\n",
       "      <td>False</td>\n",
       "    </tr>\n",
       "    <tr>\n",
       "      <th>2</th>\n",
       "      <td>AAPL220520P00120000</td>\n",
       "      <td>Call</td>\n",
       "      <td>120</td>\n",
       "      <td>False</td>\n",
       "    </tr>\n",
       "    <tr>\n",
       "      <th>3</th>\n",
       "      <td>AAPL220520P00130000</td>\n",
       "      <td>Call</td>\n",
       "      <td>130</td>\n",
       "      <td>False</td>\n",
       "    </tr>\n",
       "    <tr>\n",
       "      <th>4</th>\n",
       "      <td>AAPL220520P00140000</td>\n",
       "      <td>Call</td>\n",
       "      <td>140</td>\n",
       "      <td>False</td>\n",
       "    </tr>\n",
       "    <tr>\n",
       "      <th>5</th>\n",
       "      <td>AAPL220520P00150000</td>\n",
       "      <td>Call</td>\n",
       "      <td>150</td>\n",
       "      <td>False</td>\n",
       "    </tr>\n",
       "  </tbody>\n",
       "</table>\n",
       "</div>"
      ],
      "text/plain": [
       "         Contract Name  Type Strike Early Exercise\n",
       "0  AAPL220520P00100000  Call    100           True\n",
       "1  AAPL220520P00110000  Call    110          False\n",
       "2  AAPL220520P00120000  Call    120          False\n",
       "3  AAPL220520P00130000  Call    130          False\n",
       "4  AAPL220520P00140000  Call    140          False\n",
       "5  AAPL220520P00150000  Call    150          False"
      ]
     },
     "execution_count": 161,
     "metadata": {},
     "output_type": "execute_result"
    }
   ],
   "source": [
    "output"
   ]
  },
  {
   "cell_type": "code",
   "execution_count": 153,
   "metadata": {},
   "outputs": [],
   "source": [
    "# output.to_excel(\"EarlyExerciseCandidate.xlsx\")"
   ]
  }
 ],
 "metadata": {
  "kernelspec": {
   "display_name": "Python 3 (ipykernel)",
   "language": "python",
   "name": "python3"
  },
  "language_info": {
   "codemirror_mode": {
    "name": "ipython",
    "version": 3
   },
   "file_extension": ".py",
   "mimetype": "text/x-python",
   "name": "python",
   "nbconvert_exporter": "python",
   "pygments_lexer": "ipython3",
   "version": "3.9.7"
  }
 },
 "nbformat": 4,
 "nbformat_minor": 4
}
